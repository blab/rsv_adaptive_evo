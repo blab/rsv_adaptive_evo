{
 "cells": [
  {
   "cell_type": "code",
   "execution_count": 2,
   "id": "329242a2",
   "metadata": {},
   "outputs": [],
   "source": [
    "from Bio import SeqIO\n",
    "from Bio.Seq import Seq\n",
    "from Bio.SeqRecord import SeqRecord\n",
    "from Bio import SeqFeature"
   ]
  },
  {
   "cell_type": "code",
   "execution_count": 13,
   "id": "9f9f2eb9",
   "metadata": {},
   "outputs": [],
   "source": [
    "dup_aa = 'TERDTSTSQSTVLDTTTSKH'\n",
    "dup_seq = 'ACAGAAAGAGACACCAGCACCTCACAATCCACTGTGCTCGACACAACCACATCAAAACAC'"
   ]
  },
  {
   "cell_type": "code",
   "execution_count": null,
   "id": "a67ee782",
   "metadata": {},
   "outputs": [],
   "source": [
    "#RSVB AY333364 is the \"prototype\" BA sequence, with a perfect duplication\n",
    "#Use this as the G gene"
   ]
  },
  {
   "cell_type": "code",
   "execution_count": 106,
   "id": "b402b9c9",
   "metadata": {},
   "outputs": [],
   "source": [
    "for record in SeqIO.parse(open('rsv_b_AY333364.gb', 'r'), \"gb\"):\n",
    "    ba_g_seq_extra = record.seq\n",
    "    for feature in record.features:\n",
    "        if feature.type =='CDS':\n",
    "            ba_g_translation = feature.qualifiers['translation'][0]\n",
    "            ba_g_seq = feature.location.extract(ba_g_seq_extra)\n",
    "            loc_template = ba_g_seq.find(dup_seq)\n",
    "            loc_dup = loc_template+60\n",
    "            ba_g_start = feature.location.start\n"
   ]
  },
  {
   "cell_type": "code",
   "execution_count": 116,
   "id": "a6ced719",
   "metadata": {},
   "outputs": [
    {
     "name": "stdout",
     "output_type": "stream",
     "text": [
      "ATGTCCAAAAACAAGAATCAACGCACTGCCAGGACTCTAGAAAAGACCTGGGATACTCTTAATCATCTAATTGTAATATCCTCTTGTTTATACAAATTAAATTTAAAATCTATAGCACAAATAGCACTATCAGTTTTGGCAATGATAATCTCAACCTCTCTCATAATTGCAGCCATAATATTCATCATCTCTGCCAATCACAAAGTTACACTAACAACTGTCACAGTTCAAACAATAAAAAACCACACTGAGAAAAACATCACCACTTACCTTACTCAAGTCTCACCAGAAAGGGTTAGCCCATCCAAACAACTCACAACCACACCACCAATCTACACAAACTCAGCCACAATATCACCTAATACAAAATCAGAAACACACCATACAACAGCACAAACCAAAGGCAGAACCACCACTCCAACACAGAACAACAAGCCAAGCACAAAACCACGTCCAAAAAATCCACCAAAAAAACCAAAAGATGATTACCATTTTGAAGTGTTCAACTTCGTTCCCTGTAGTATATGTGGCAACAATCAACTCTGCAAATCCATTTGCAAAACAATACCAAGCAATAAACCAAAGAAAAAACCAACCATAAAACCCACAAACAAACCACCCACCAAAACCACAAACAAAAGAGACCCAAAAAAACTAGCCAAAACACTGAAAAAAGAAACCACCATCAACCCAACAAAAAAACCAACCCCCAAGACCACAGAAAGAGACACCAGCACCTCACAATCCACTGTGCTCGACACAACCACATCAAAACACACAGAAAGAGACACCAGCACCTCACAATCCACTGTGCTCGACACAACCACATCAAAACACACAATCCAACAGCAATCCCTCCACTCAACCACCCCCGAAAACACACCCAACTCCACACAAACACCCACAGCATCCGAGCCCTCCACATCAAATTCCACCCAAAAACTCTAG\n"
     ]
    }
   ],
   "source": [
    "print(ba_g_seq)"
   ]
  },
  {
   "cell_type": "code",
   "execution_count": 119,
   "id": "36f70709",
   "metadata": {},
   "outputs": [
    {
     "name": "stdout",
     "output_type": "stream",
     "text": [
      "MSKNKNQRTARTLEKTWDTLNHLIVISSCLYKLNLKSIAQIALSVLAMIISTSLIIAAIIFIISANHKVTLTTVTVQTIKNHTEKNITTYLTQVSPERVSPSKQLTTTPPIYTNSATISPNTKSETHHTTAQTKGRTTTPTQNNKPSTKPRPKNPPKKPKDDYHFEVFNFVPCSICGNNQLCKSICKTIPSNKPKKKPTIKPTNKPPTKTTNKRDPKKLAKTLKKETTINPTKKPTPKTTERDTSTSQSTVLDTTTSKHTERDTSTSQSTVLDTTTSKHTIQQQSLHSTTPENTPNSTQTPTASEPSTSNSTQKL*SYA*\n"
     ]
    }
   ],
   "source": [
    "print(str(ba_g_seq_extra[ba_g_start:ba_g_start+len(old_g_seq)+60].translate()))"
   ]
  },
  {
   "cell_type": "code",
   "execution_count": 84,
   "id": "83a428f4",
   "metadata": {},
   "outputs": [],
   "source": [
    "#use AF013254 from 1999 as genome reference, but replace G gene with AY333364\n",
    "#they use different stop codons, so make sure the chimera genomes makes sense:\n",
    "#AF013254 uses a stop codon that is further downstream (by 4 codons)\n",
    "#In AF013254 the stop codon is the TAG at the end here: CAATCACATGCTTAG, but\n",
    "#In AY333364 the CAA has mutated to a TAG, making the stop codon is the first TAG here: TAGTCATATGCTTAG\n",
    "\n",
    "#Need to insert the AY333364 G sequence into AF013254, essentially mutating CAA->TAG but keeping the downsteam sequence\n",
    "#and adjust the coordinates for G and all downstream features by 60 to account for the duplication"
   ]
  },
  {
   "cell_type": "code",
   "execution_count": 123,
   "id": "6587d305",
   "metadata": {},
   "outputs": [
    {
     "data": {
      "text/plain": [
       "1"
      ]
     },
     "execution_count": 123,
     "metadata": {},
     "output_type": "execute_result"
    }
   ],
   "source": [
    "#make new genome seq\n",
    "new_genome_seq = ''\n",
    "for record in SeqIO.parse(open('rsv_b_AF013254.gb', 'r'), \"gb\"):\n",
    "    genome_seq = record.seq\n",
    "    for feature in record.features:\n",
    "        if feature.type =='CDS':\n",
    "            if feature.qualifiers['gene'] == ['G']:\n",
    "                g_start_old = feature.location.start\n",
    "                g_end_old = feature.location.end\n",
    "                old_g_seq = feature.location.extract(genome_seq)\n",
    "\n",
    "    genome_til_G = genome_seq[:g_start_old]\n",
    "    genome_after_G = genome_seq[g_end_old:]\n",
    "    #the BA G sequence with the extra 4 codons to reach the stop codon of the G gene in reference genome\n",
    "    ba_g_to_insert = ba_g_seq_extra[ba_g_start:ba_g_start+len(old_g_seq)+60]\n",
    "    new_genome_seq = Seq(genome_til_G+ba_g_to_insert+genome_after_G)\n",
    "\n",
    "# Create a seq record\n",
    "new_record = SeqRecord(new_genome_seq,\n",
    "                   id='AY333364/AF013254', # random accession number\n",
    "                   name='AY333364/AF013254',\n",
    "                   description='AF013254 genome with AY333364 G gene', \n",
    "                       annotations={\"molecule_type\": \"RNA\"})\n",
    "    \n",
    "#make new features\n",
    "\n",
    "for record in SeqIO.parse(open('rsv_b_AF013254.gb', 'r'), \"gb\"):\n",
    "    for feature in record.features:\n",
    "        if feature.type =='source':\n",
    "            feature.location = SeqFeature.FeatureLocation(SeqFeature.ExactPosition(feature.location.start.position),\n",
    "                    SeqFeature.ExactPosition(feature.location.end +60), feature.location.strand)\n",
    "            \n",
    "        else:\n",
    "            #adjust the end position of G by 60nt\n",
    "            if feature.location.start==g_start_old:\n",
    "                feature.location = SeqFeature.FeatureLocation(SeqFeature.ExactPosition(feature.location.start.position),\n",
    "                        SeqFeature.ExactPosition(feature.location.end +60), feature.location.strand)\n",
    "                if feature.type =='CDS':\n",
    "                    feature.qualifiers['translation'] = feature.location.extract(new_genome_seq).translate()\n",
    "            #adjust the start and end positions of all features downstream of G by 60nt\n",
    "            elif feature.location.start>g_start_old:\n",
    "                feature.location = SeqFeature.FeatureLocation(SeqFeature.ExactPosition(feature.location.start.position+60),\n",
    "                        SeqFeature.ExactPosition(feature.location.end +60), feature.location.strand)\n",
    "                if feature.type =='CDS':\n",
    "                    feature.qualifiers['translation'] = feature.location.extract(new_genome_seq).translate()\n",
    "\n",
    "        new_record.features.append(feature)\n",
    "\n",
    "#Save as genbank\n",
    "output_file = open('rsv_b_ba_reference.gb', 'w')\n",
    "SeqIO.write(new_record, output_file, 'genbank')        \n"
   ]
  },
  {
   "cell_type": "code",
   "execution_count": 134,
   "id": "a751e936",
   "metadata": {},
   "outputs": [
    {
     "name": "stdout",
     "output_type": "stream",
     "text": [
      "G sequence mismatch\n"
     ]
    }
   ],
   "source": [
    "#check new reference genome\n",
    "\n",
    "#old reference genome\n",
    "#the new reference file should have the same gene seqs for this except for G\n",
    "sequence_old_genes = {}\n",
    "for record in SeqIO.parse(open('rsv_b_AF013254.gb', 'r'), \"gb\"):\n",
    "    genome_len = len(record.seq)\n",
    "    for feature in record.features:\n",
    "        if feature.type == 'CDS':\n",
    "            cds_seq = feature.location.extract(record.seq)\n",
    "            sequence_old_genes[feature.qualifiers['gene'][0]] = cds_seq\n",
    "            \n",
    "#BA g gene should be from AY333364\n",
    "sequence_old_genes['G']=ba_g_seq\n",
    "    \n",
    "for record in SeqIO.parse(open('rsv_b_ba_reference.gb', 'r'), \"gb\"):\n",
    "    new_genome_seq = record.seq\n",
    "    if len(new_genome_seq)!=genome_len+60:\n",
    "        print('length mismatch')\n",
    "    for feature in record.features:\n",
    "        if feature.type == 'CDS':\n",
    "            new_cds_seq = feature.location.extract(new_genome_seq)\n",
    "            gene = feature.qualifiers['gene'][0]\n",
    "            if sequence_old_genes[gene] != new_cds_seq:\n",
    "                #its ok if G is different by the 12nt at the end that spans the different stop codons\n",
    "                print(f'{gene} sequence mismatch')\n",
    "#                 print(sequence_old_genes[gene])\n",
    "#                 print(new_cds_seq)\n",
    "#                 print(new_cds_seq.translate())\n",
    "            "
   ]
  },
  {
   "cell_type": "code",
   "execution_count": null,
   "id": "052c69e1",
   "metadata": {},
   "outputs": [],
   "source": []
  }
 ],
 "metadata": {
  "kernelspec": {
   "display_name": "Python 3 (ipykernel)",
   "language": "python",
   "name": "python3"
  },
  "language_info": {
   "codemirror_mode": {
    "name": "ipython",
    "version": 3
   },
   "file_extension": ".py",
   "mimetype": "text/x-python",
   "name": "python",
   "nbconvert_exporter": "python",
   "pygments_lexer": "ipython3",
   "version": "3.9.7"
  }
 },
 "nbformat": 4,
 "nbformat_minor": 5
}
