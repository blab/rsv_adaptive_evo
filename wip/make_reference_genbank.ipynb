{
 "cells": [
  {
   "cell_type": "code",
   "execution_count": 1,
   "id": "7ef75767",
   "metadata": {},
   "outputs": [],
   "source": [
    "from Bio import SeqIO\n",
    "from Bio.Seq import Seq\n",
    "from Bio.SeqRecord import SeqRecord\n",
    "from Bio import SeqFeature\n",
    "import json"
   ]
  },
  {
   "cell_type": "code",
   "execution_count": 16,
   "id": "2881d83f",
   "metadata": {},
   "outputs": [],
   "source": [
    "for record in SeqIO.parse(open('rsv_a_JN257693.gb', 'r'), \"gb\"):\n",
    "    on1_g_seq = record.seq\n",
    "    for feature in record.features:\n",
    "        if feature.type =='CDS':\n",
    "            on1_g_translation = feature.qualifiers['translation']\n",
    "#             print(on1_g_seq)"
   ]
  },
  {
   "cell_type": "code",
   "execution_count": 14,
   "id": "b674f1b0",
   "metadata": {},
   "outputs": [],
   "source": [
    "duplicated_seq = 'GTCAAGAGGAAACCCTCCACTCAACCACCTCCGAAGGCTATCTAAGCCCATCACAAGTCTATACAACATCCG'\n",
    "dup_seq_aa = 'QEETLHSTTSEGYLSPSQVYTTS'"
   ]
  },
  {
   "cell_type": "code",
   "execution_count": 8,
   "id": "6e3190e6",
   "metadata": {},
   "outputs": [
    {
     "data": {
      "text/plain": [
       "2"
      ]
     },
     "execution_count": 8,
     "metadata": {},
     "output_type": "execute_result"
    }
   ],
   "source": [
    "#confirm duplication\n",
    "on1_g_seq.count(duplicated_seq)"
   ]
  },
  {
   "cell_type": "code",
   "execution_count": 40,
   "id": "a6221dc6",
   "metadata": {},
   "outputs": [],
   "source": [
    "for record in SeqIO.parse(open('rsv_a_JX627336.gb', 'r'), \"gb\"):\n",
    "    on1_genome_seq = record.seq\n",
    "    for feature in record.features:\n",
    "        if feature.type =='CDS':\n",
    "            if feature.qualifiers['gene'] == ['G']:\n",
    "                g_start = feature.location.start\n",
    "                g_end = feature.location.end\n",
    "                old_g_seq = feature.location.extract(on1_genome_seq)\n"
   ]
  },
  {
   "cell_type": "code",
   "execution_count": 36,
   "id": "f1da4f63",
   "metadata": {},
   "outputs": [
    {
     "name": "stdout",
     "output_type": "stream",
     "text": [
      "967\n",
      "966\n"
     ]
    }
   ],
   "source": [
    "#JN257693 is one nt longer... seems that there is an extra T on the end after the stop codon\n",
    "print(len(on1_g_seq))\n",
    "print(len(old_g_seq))\n",
    "#should truncate it and then switching JN257693 G seq into JX627336 should be ok because they are the same length\n",
    "#and don't have to worry about changing coordinates of things down stream\n",
    "on1_g_seq_edited = on1_g_seq[0:-1]"
   ]
  },
  {
   "cell_type": "code",
   "execution_count": 49,
   "id": "fed590ce",
   "metadata": {},
   "outputs": [],
   "source": [
    "for record in SeqIO.parse(open('rsv_a_JX627336.gb', 'r'), \"gb\"):\n",
    "    #make sequence mutable\n",
    "    record.seq = record.seq.tomutable()\n",
    "    #make sure coordinates are right\n",
    "#     print(new_genome_nt[g_start:g_end])\n",
    "    record.seq[g_start:g_end] = on1_g_seq_edited\n",
    "    \n",
    "    for feature in record.features:\n",
    "        if feature.type =='CDS':\n",
    "            if feature.qualifiers['gene'] == ['G']:\n",
    "                feature.qualifiers['translation'] = on1_g_translation\n",
    "    \n",
    "    SeqIO.write(record, 'rsv_a_dup_reference.gb', 'genbank')"
   ]
  },
  {
   "cell_type": "code",
   "execution_count": 50,
   "id": "f5a8d0eb",
   "metadata": {},
   "outputs": [
    {
     "name": "stdout",
     "output_type": "stream",
     "text": [
      "True\n",
      "True\n"
     ]
    }
   ],
   "source": [
    "#make sure it worked\n",
    "for record in SeqIO.parse(open('rsv_a_dup_reference.gb', 'r'), \"gb\"):\n",
    "    for feature in record.features:\n",
    "        if feature.type =='CDS':\n",
    "            if feature.qualifiers['gene'] == ['G']:\n",
    "                print(on1_g_seq_edited==feature.location.extract(record.seq))\n",
    "                print(feature.qualifiers['translation'] == on1_g_translation)\n"
   ]
  },
  {
   "cell_type": "code",
   "execution_count": 4,
   "id": "25de9b4c",
   "metadata": {},
   "outputs": [],
   "source": [
    "with open('old_jsons/rsv_A_chimeraroot_root-sequence.json') as f:\n",
    "    root_seq = json.load(f)"
   ]
  },
  {
   "cell_type": "code",
   "execution_count": 37,
   "id": "c6fa1650",
   "metadata": {},
   "outputs": [
    {
     "name": "stdout",
     "output_type": "stream",
     "text": [
      "MSKTKDQRTAKTLEKTWDTLNHLLFISSCLYKLNLKSIAQITLSILAMIISTSLIIAAIIFIASANHKVTLTTAIIQDATSQIKNTTPTYLTQNPQLGISFSNLSETTSQTTTILASTTPSVESTLQSTTVKTKNTTTTQIQPSKPTTKQRQNKPPNKPNNDFHFEVFNFVPCSICSNNPTCWAICKRIPNKKPGKKTTTKPTKKPTIKTTKKDLKPQTTKPKEVPTTKPTEKPTINTTKTNIRTTLLTNNTTGNPEHTSQKETLHSTSSEGNPSPSQVYTTSEYLSQPPSPSNTTNQ\n",
      "MSKTKDQRTAKTLEKTWDTLNHLLFISSCLYKLNLKSIAQITLSILAMIISTSLIIAAIIFIASANHKVTLTTAIIQDATSQIKNTTPTYLTQNPQLGISFSNLSETTSQTTTILASTTPSVESTLQSTTVKTKNTTTTQIQPSKPTTKQRQNKPPNKPNNDFHFEVFNFVPCSICSNNPTCWAICKRIPNKKPGKKTTTKPTKKPTIKTTKKDLKPQTTKPKEVPTTKPTEKPTINTTKTNIRTTLLTNNTTGNPEHTSQKETLHSTSSEGNPSPSQVYTTSEYLSQPPSPSNTTNQ\n"
     ]
    }
   ],
   "source": [
    "#make reference from the root of the tree made by aligning to reference\n",
    "#to align the non-on1 strains to\n",
    "#G will be shorter than the ON1 reference\n",
    "new_features = []\n",
    "for record in SeqIO.parse(open('rsv_a_dup_reference.gb', 'r'), \"gb\"):\n",
    "    record.id = 'RSVA-root'\n",
    "    record.name = 'RSVA-root'\n",
    "    record.description = 'RSV-A root'\n",
    "    record.seq = Seq(root_seq['nuc'])\n",
    "    #make sequence mutable\n",
    "    record.seq = record.seq.tomutable()\n",
    "    #remove the deletion that is a place holder for duplication\n",
    "    record.seq = record.seq.replace('-'*72,'')\n",
    "    \n",
    "    #edit the new locations for each gene (after having deleted 72 nt from G)\n",
    "    for feature in record.features:\n",
    "        if feature.type =='CDS':\n",
    "            if feature.qualifiers['gene'] == ['G']:\n",
    "                old_g_start = feature.location.start\n",
    "    \n",
    "    #only need to change features that come after G (or are G)\n",
    "    for feature in record.features:\n",
    "        #this is g\n",
    "        if feature.location.start == old_g_start:\n",
    "            feature.location = SeqFeature.FeatureLocation(SeqFeature.ExactPosition(feature.location.start.position),\n",
    "                        SeqFeature.ExactPosition(feature.location.end -72), feature.location.strand)\n",
    "            feature.qualifiers['translation'] = feature.location.extract(record.seq).translate()\n",
    "            \n",
    "        elif feature.location.start > old_g_start:\n",
    "            feature.location = SeqFeature.FeatureLocation(SeqFeature.ExactPosition(feature.location.start.position-72),\n",
    "                        SeqFeature.ExactPosition(feature.location.end -72), feature.location.strand)\n",
    "            feature.qualifiers['translation'] = feature.location.extract(record.seq).translate()\n",
    "\n",
    "        new_features.append(feature)\n",
    "        \n",
    "    record.features = new_features\n",
    "\n",
    "\n",
    "    \n",
    "    SeqIO.write(record, 'rsv_a_fromroot_dupremoved.gb', 'genbank')\n"
   ]
  },
  {
   "cell_type": "code",
   "execution_count": 12,
   "id": "d2e1c9da",
   "metadata": {},
   "outputs": [],
   "source": [
    "#make reference from the root of the tree made by aligning to reference (so there will be a gap in G that can be filled in by the duplication)\n",
    "for record in SeqIO.parse(open('rsv_a_dup_reference.gb', 'r'), \"gb\"):\n",
    "    record.id = 'RSVA-root'\n",
    "    record.name = 'RSVA-root'\n",
    "    record.description = 'RSV-A root with space for G duplication'\n",
    "    record.seq = Seq(root_seq['nuc'])\n",
    "    #make sequence mutable\n",
    "    record.seq = record.seq.tomutable()\n",
    "    for feature in record.features:\n",
    "        if feature.type =='CDS':\n",
    "            if feature.qualifiers['gene'] == ['G']:\n",
    "                #in the root sequence, the ---s for the duplication are shifted frame by one nt\n",
    "                #the \"template\" for the duplication occurs after the duplication in this root sequence \n",
    "                #g in \"template\" needs to be moved to other side\n",
    "                mutable_g = feature.location.extract(record.seq).tomutable()\n",
    "\n",
    "                mutable_g[778:850] = 'GTCAAGAGGAAACCCTCCACTCAACCACCTCCGAAGGCTATCTAAGCCCATCACAAGTCTATACAACATCCG'\n",
    "                mutable_g[850] = 'G'\n",
    "                \n",
    "                record.seq[feature.location.start:feature.location.end] = mutable_g\n",
    "\n",
    "                feature.qualifiers['translation'] = feature.location.extract(record.seq).translate()\n",
    "\n",
    "            else:\n",
    "                feature.qualifiers['translation'] = feature.location.extract(record.seq).translate()\n",
    "            \n",
    "            #check\n",
    "#             if str(feature.qualifiers['translation']) != root_seq[feature.qualifiers['gene'][0]]:\n",
    "#                 print(root_seq[feature.qualifiers['gene'][0]])\n",
    "\n",
    "    \n",
    "    SeqIO.write(record, 'rsv_a_fromroot_dupfilled.gb', 'genbank')"
   ]
  }
 ],
 "metadata": {
  "kernelspec": {
   "display_name": "Python 3 (ipykernel)",
   "language": "python",
   "name": "python3"
  },
  "language_info": {
   "codemirror_mode": {
    "name": "ipython",
    "version": 3
   },
   "file_extension": ".py",
   "mimetype": "text/x-python",
   "name": "python",
   "nbconvert_exporter": "python",
   "pygments_lexer": "ipython3",
   "version": "3.9.7"
  }
 },
 "nbformat": 4,
 "nbformat_minor": 5
}
