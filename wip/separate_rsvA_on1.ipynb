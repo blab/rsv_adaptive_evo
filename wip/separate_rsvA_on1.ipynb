{
 "cells": [
  {
   "cell_type": "code",
   "execution_count": 20,
   "id": "0d8cc4d3",
   "metadata": {},
   "outputs": [],
   "source": [
    "import json\n",
    "from augur.utils import json_to_tree\n",
    "from Bio import SeqIO\n",
    "from Bio.Seq import Seq\n",
    "from Bio.SeqRecord import SeqRecord"
   ]
  },
  {
   "cell_type": "code",
   "execution_count": 12,
   "id": "5db7bc41",
   "metadata": {},
   "outputs": [],
   "source": [
    "tree_json_file = 'old_jsons/rsv_A-refisrootwithinsertion.json'\n",
    "with open(tree_json_file, 'r') as f:\n",
    "    tree_json = json.load(f)\n",
    "tree = json_to_tree(tree_json)"
   ]
  },
  {
   "cell_type": "code",
   "execution_count": 24,
   "id": "1980ef0e",
   "metadata": {},
   "outputs": [],
   "source": [
    "on1_strains = []\n",
    "other_strains = []\n",
    "\n",
    "#in this tree, these tips are nested within the ON1 clade but have 72nt deletions (aka do not have duplication)\n",
    "manual_exceptions = ['MK167035', 'MF001057','KU950594','MH279547',\n",
    "                     'MZ151853','MH383066','MN306050','MN310477',\n",
    "                     'MW160746','KY967362','MN306054']\n",
    "\n",
    "#tips that descend from NODE_0000644 have the G duplication, with a few exceptions\n",
    "for node in tree.find_clades(terminal=True):\n",
    "    node_path = [x.name for x in tree.get_path(node)]\n",
    "    if 'NODE_0000644' in node_path:\n",
    "        if node.name not in manual_exceptions:\n",
    "            on1_strains.append(node.name)\n",
    "    else:\n",
    "        other_strains.append(node.name)\n",
    "        \n"
   ]
  },
  {
   "cell_type": "code",
   "execution_count": 28,
   "id": "e7f6f182",
   "metadata": {},
   "outputs": [],
   "source": [
    "# write a new data file with all subtype A viruses that have duplication, and another that do not\n",
    "\n",
    "data_file = '../rsv_testing-ref/data/rsv_A_genome.fasta'\n",
    "\n",
    "with open(data_file, 'r') as handle:\n",
    "    \n",
    "    A_ON1_records = []\n",
    "    A_other_records = []\n",
    "    \n",
    "    for virus in SeqIO.parse(handle, 'fasta'):\n",
    "        accession = virus.id.split('|')[0]\n",
    "            \n",
    "        if accession in on1_strains:\n",
    "            A_ON1_records.append(SeqRecord(virus.seq, id=virus.id, description=virus.description))\n",
    "        elif accession in other_strains:\n",
    "            A_other_records.append(SeqRecord(virus.seq, id=virus.id, description=virus.description))\n",
    "            \n",
    "    SeqIO.write(A_ON1_records, '../rsv_testing-ref/data/rsv_A_on1.fasta', \"fasta\")\n",
    "    SeqIO.write(A_other_records, '../rsv_testing-ref/data/rsv_A_other.fasta', \"fasta\")"
   ]
  }
 ],
 "metadata": {
  "kernelspec": {
   "display_name": "Python 3 (ipykernel)",
   "language": "python",
   "name": "python3"
  },
  "language_info": {
   "codemirror_mode": {
    "name": "ipython",
    "version": 3
   },
   "file_extension": ".py",
   "mimetype": "text/x-python",
   "name": "python",
   "nbconvert_exporter": "python",
   "pygments_lexer": "ipython3",
   "version": "3.9.7"
  }
 },
 "nbformat": 4,
 "nbformat_minor": 5
}
