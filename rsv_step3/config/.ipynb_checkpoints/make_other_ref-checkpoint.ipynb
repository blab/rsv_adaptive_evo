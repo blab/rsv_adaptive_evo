{
 "cells": [
  {
   "cell_type": "code",
   "execution_count": 26,
   "id": "00774a78",
   "metadata": {},
   "outputs": [],
   "source": [
    "import re\n",
    "from Bio import SeqIO\n",
    "from Bio.Seq import Seq\n",
    "from Bio.SeqRecord import SeqRecord\n",
    "from Bio.Seq import MutableSeq"
   ]
  },
  {
   "cell_type": "code",
   "execution_count": 49,
   "id": "970036dd",
   "metadata": {},
   "outputs": [],
   "source": [
    "dup_seq = 'GTCAAGAGGAAACCCTCCACTCAACCACCTCCGAAGGCTATCTAAGCCCATCACAAGTCTATACAACATCCG'"
   ]
  },
  {
   "cell_type": "code",
   "execution_count": 41,
   "id": "8bc9373a",
   "metadata": {},
   "outputs": [],
   "source": [
    "#reference genomes for ON1 and \"other\" RSV-A ref should be the same except for the duplication event\n",
    "#this way coordinates will be the same except for the duplication\n",
    "\n",
    "on1_reference_file = 'rsv_a_step2_on1_reference.gb'\n",
    "\n",
    "with open(on1_reference_file) as handle:\n",
    "    for record in SeqIO.parse(handle, \"genbank\"):\n",
    "        genome_seq = str(record.seq)\n",
    "        seq_wo_dup = Seq(genome_seq.replace(dup_seq,'',1))\n",
    "\n",
    "        for feature in record.features:\n",
    "            if feature.type == 'CDS':\n",
    "                if feature.qualifiers['gene'] == ['G']:\n",
    "                    g_end_wo_dup = feature.location.end - 72\n",
    "                    g_nt = Seq(seq_wo_dup[feature.location.start:g_end_wo_dup])\n",
    "                    #remove stop codon\n",
    "                    feature.qualifiers['translation'] = g_nt.translate()[:-1]\n",
    "                    \n",
    "        record.seq = seq_wo_dup\n",
    "        \n",
    "        with open('rsv_a_step2_other_reference.gb','w') as output_file:\n",
    "            SeqIO.write(record, output_file, 'genbank')\n",
    "\n",
    "    "
   ]
  },
  {
   "cell_type": "code",
   "execution_count": 53,
   "id": "0369bd47",
   "metadata": {},
   "outputs": [],
   "source": [
    "#then manually go change the locations of everything downsteam of G in the genbank file\n",
    "#check translations\n",
    "with open('rsv_a_step2_other_reference.gb') as handle:\n",
    "    for record in SeqIO.parse(handle, \"genbank\"):\n",
    "        for feature in record.features:\n",
    "            if feature.type == 'CDS':\n",
    "                if feature.location.extract(record.seq).translate()[:-1] != feature.qualifiers['translation'][0]:\n",
    "                    print(feature)\n",
    "                    print(feature.location.extract(record.seq).translate(),feature.qualifiers['translation'][0])\n",
    "\n",
    "        "
   ]
  }
 ],
 "metadata": {
  "kernelspec": {
   "display_name": "Python 3 (ipykernel)",
   "language": "python",
   "name": "python3"
  },
  "language_info": {
   "codemirror_mode": {
    "name": "ipython",
    "version": 3
   },
   "file_extension": ".py",
   "mimetype": "text/x-python",
   "name": "python",
   "nbconvert_exporter": "python",
   "pygments_lexer": "ipython3",
   "version": "3.9.7"
  }
 },
 "nbformat": 4,
 "nbformat_minor": 5
}
